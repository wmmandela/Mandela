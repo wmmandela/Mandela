{
  "nbformat": 4,
  "nbformat_minor": 0,
  "metadata": {
    "colab": {
      "provenance": [],
      "authorship_tag": "ABX9TyMKIdhTj/KWyW0eESISimhw",
      "include_colab_link": true
    },
    "kernelspec": {
      "name": "python3",
      "display_name": "Python 3"
    },
    "language_info": {
      "name": "python"
    }
  },
  "cells": [
    {
      "cell_type": "markdown",
      "metadata": {
        "id": "view-in-github",
        "colab_type": "text"
      },
      "source": [
        "<a href=\"https://colab.research.google.com/github/wmmandela/Mandela/blob/main/OperatingSystems.ipynb\" target=\"_parent\"><img src=\"https://colab.research.google.com/assets/colab-badge.svg\" alt=\"Open In Colab\"/></a>"
      ]
    },
    {
      "cell_type": "markdown",
      "source": [
        "Write a program to simulate the CPU scheduling priorityalgorithm."
      ],
      "metadata": {
        "id": "kLEY-UgzJ9lA"
      }
    },
    {
      "cell_type": "code",
      "execution_count": 5,
      "metadata": {
        "colab": {
          "base_uri": "https://localhost:8080/"
        },
        "id": "7UtFazKTHhd8",
        "outputId": "a0db4c15-8e78-49b1-963a-4a02f993470b"
      },
      "outputs": [
        {
          "output_type": "stream",
          "name": "stdout",
          "text": [
            "Enter number of processes: 3\n",
            "Enter burst time and priority for process 1: 3 2\n",
            "Enter burst time and priority for process 2: 4 1\n",
            "Enter burst time and priority for process 3: 3 7 \n",
            "Average Waiting Time: 3.67\n",
            "Average Turnaround Time: 7.00\n"
          ]
        }
      ],
      "source": [
        "class Process:\n",
        "    def __init__(self, id, burst_time, priority):\n",
        "        self.id = id\n",
        "        self.burst_time = burst_time\n",
        "        self.priority = priority\n",
        "        self.waiting_time = 0\n",
        "        self.turnaround_time = 0\n",
        "\n",
        "def calculate_times(processes):\n",
        "    total_waiting_time = 0\n",
        "    total_turnaround_time = 0\n",
        "\n",
        "    processes[0].waiting_time = 0\n",
        "    processes[0].turnaround_time = processes[0].burst_time\n",
        "\n",
        "    for i in range(1, len(processes)):\n",
        "        processes[i].waiting_time = processes[i - 1].waiting_time + processes[i - 1].burst_time\n",
        "        processes[i].turnaround_time = processes[i].waiting_time + processes[i].burst_time\n",
        "\n",
        "    for process in processes:\n",
        "        total_waiting_time += process.waiting_time\n",
        "        total_turnaround_time += process.turnaround_time\n",
        "\n",
        "    print(f\"Average Waiting Time: {total_waiting_time / len(processes):.2f}\")\n",
        "    print(f\"Average Turnaround Time: {total_turnaround_time / len(processes):.2f}\")\n",
        "\n",
        "def main():\n",
        "    n = int(input(\"Enter number of processes: \"))\n",
        "    processes = []\n",
        "\n",
        "    for i in range(n):\n",
        "        burst_time, priority = map(int, input(f\"Enter burst time and priority for process {i + 1}: \").split())\n",
        "        processes.append(Process(i + 1, burst_time, priority))\n",
        "\n",
        "    processes.sort(key=lambda x: x.priority)\n",
        "    calculate_times(processes)\n",
        "\n",
        "if __name__ == \"__main__\":\n",
        "    main()"
      ]
    },
    {
      "cell_type": "markdown",
      "source": [
        "Write a program to simulate producer-consumer problem using semaphores."
      ],
      "metadata": {
        "id": "UWzSwI12KAza"
      }
    },
    {
      "cell_type": "code",
      "source": [
        "import threading\n",
        "import time\n",
        "import random\n",
        "\n",
        "BUFFER_SIZE = 5\n",
        "buffer = []\n",
        "lock = threading.Lock()\n",
        "empty = threading.Semaphore(BUFFER_SIZE)\n",
        "full = threading.Semaphore(0)\n",
        "\n",
        "def producer():\n",
        "    for i in range(10):\n",
        "        item = i\n",
        "        empty.acquire()\n",
        "        lock.acquire()\n",
        "        buffer.append(item)\n",
        "        print(f\"Produced: {item}\")\n",
        "        lock.release()\n",
        "        full.release()\n",
        "        time.sleep(random.uniform(0.1, 1))\n",
        "\n",
        "def consumer():\n",
        "    for _ in range(10):\n",
        "        full.acquire()\n",
        "        lock.acquire()\n",
        "        item = buffer.pop(0)\n",
        "        print(f\"Consumed: {item}\")\n",
        "        lock.release()\n",
        "        empty.release()\n",
        "        time.sleep(random.uniform(0.1, 1))\n",
        "\n",
        "if __name__ == \"__main__\":\n",
        "    prod_thread = threading.Thread(target=producer)\n",
        "    cons_thread = threading.Thread(target=consumer)\n",
        "\n",
        "    prod_thread.start()\n",
        "    cons_thread.start()\n",
        "\n",
        "    prod_thread.join()\n",
        "    cons_thread.join()"
      ],
      "metadata": {
        "colab": {
          "base_uri": "https://localhost:8080/"
        },
        "id": "RlP3nq01IrsN",
        "outputId": "47abcd38-3aaa-42d6-c173-7e435eca1cd3"
      },
      "execution_count": 6,
      "outputs": [
        {
          "output_type": "stream",
          "name": "stdout",
          "text": [
            "Produced: 0\n",
            "Consumed: 0\n",
            "Produced: 1\n",
            "Consumed: 1\n",
            "Produced: 2\n",
            "Consumed: 2\n",
            "Produced: 3\n",
            "Produced: 4\n",
            "Consumed: 3\n",
            "Consumed: 4\n",
            "Produced: 5\n",
            "Produced: 6\n",
            "Produced: 7\n",
            "Consumed: 5\n",
            "Produced: 8\n",
            "Consumed: 6\n",
            "Produced: 9\n",
            "Consumed: 7\n",
            "Consumed: 8\n",
            "Consumed: 9\n"
          ]
        }
      ]
    },
    {
      "cell_type": "markdown",
      "source": [
        "Write a program to simulate the concept of Dining-Philosophers problem."
      ],
      "metadata": {
        "id": "pQN1mabuKGab"
      }
    },
    {
      "cell_type": "code",
      "source": [
        "import threading\n",
        "import time\n",
        "\n",
        "NUM_PHILOSOPHERS = 5\n",
        "MAX_MEALS = 3  # Maximum meals per philosopher\n",
        "chopsticks = [threading.Lock() for _ in range(NUM_PHILOSOPHERS)]\n",
        "\n",
        "def philosopher(id):\n",
        "    meals = 0\n",
        "    while meals < MAX_MEALS:\n",
        "        print(f\"Philosopher {id} is thinking.\")\n",
        "        time.sleep(1)  # Simulate thinking time\n",
        "\n",
        "        left = id\n",
        "        right = (id + 1) % NUM_PHILOSOPHERS\n",
        "\n",
        "        with chopsticks[left]:\n",
        "            with chopsticks[right]:\n",
        "                print(f\"Philosopher {id} is eating.\")\n",
        "                meals += 1\n",
        "                time.sleep(1)  # Simulate eating time\n",
        "\n",
        "if __name__ == \"__main__\":\n",
        "    philosophers = []\n",
        "    for i in range(NUM_PHILOSOPHERS):\n",
        "        thread = threading.Thread(target=philosopher, args=(i,))\n",
        "        philosophers.append(thread)\n",
        "        thread.start()\n",
        "\n",
        "    for thread in philosophers:\n",
        "        thread.join()\n",
        "\n",
        "    print(\"All philosophers have finished eating.\")"
      ],
      "metadata": {
        "colab": {
          "base_uri": "https://localhost:8080/"
        },
        "id": "uP6Pvf9eIxIV",
        "outputId": "496cd081-8515-4e30-be4d-589be9cd79d7"
      },
      "execution_count": 9,
      "outputs": [
        {
          "output_type": "stream",
          "name": "stdout",
          "text": [
            "Philosopher 0 is thinking.\n",
            "Philosopher 1 is thinking.\n",
            "Philosopher 2 is thinking.\n",
            "Philosopher 3 is thinking.\n",
            "Philosopher 4 is thinking.\n",
            "Philosopher 0 is eating.\n",
            "Philosopher 2 is eating.\n",
            "Philosopher 0 is thinking.\n",
            "Philosopher 4 is eating.\n",
            "Philosopher 2 is thinking.\n",
            "Philosopher 1 is eating.\n",
            "Philosopher 4 is thinking.\n",
            "Philosopher 1 is thinking.\n",
            "Philosopher 3 is eating.\n",
            "Philosopher 0 is eating.\n",
            "Philosopher 3 is thinking.\n",
            "Philosopher 2 is eating.\n",
            "Philosopher 0 is thinking.\n",
            "Philosopher 4 is eating.\n",
            "Philosopher 2 is thinking.Philosopher 4 is thinking.\n",
            "Philosopher 1 is eating.\n",
            "\n",
            "Philosopher 3 is eating.\n",
            "Philosopher 3 is thinking.Philosopher 1 is thinking.\n",
            "\n",
            "Philosopher 2 is eating.\n",
            "Philosopher 0 is eating.\n",
            "Philosopher 4 is eating.\n",
            "Philosopher 1 is eating.\n",
            "Philosopher 3 is eating.\n",
            "All philosophers have finished eating.\n"
          ]
        }
      ]
    },
    {
      "cell_type": "markdown",
      "source": [
        "Write a program to simulate paging technique of memory management."
      ],
      "metadata": {
        "id": "HtQzCWsaKcuE"
      }
    },
    {
      "cell_type": "code",
      "source": [
        "PAGE_SIZE = 4\n",
        "MEMORY_SIZE = 16\n",
        "\n",
        "def simulate_paging(logical_memory):\n",
        "    pages = (len(logical_memory) + PAGE_SIZE - 1) // PAGE_SIZE\n",
        "    print(\"Logical Memory:\", logical_memory)\n",
        "\n",
        "    print(\"Pages in Memory:\")\n",
        "    for i in range(pages):\n",
        "        print(f\"Page {i}: \", end=\"\")\n",
        "        for j in range(PAGE_SIZE):\n",
        "            if i * PAGE_SIZE + j < len(logical_memory):\n",
        "                print(logical_memory[i * PAGE_SIZE + j], end=\" \")\n",
        "        print()\n",
        "\n",
        "if __name__ == \"__main__\":\n",
        "    logical_memory = list(range(MEMORY_SIZE))\n",
        "    simulate_paging(logical_memory)"
      ],
      "metadata": {
        "colab": {
          "base_uri": "https://localhost:8080/"
        },
        "id": "hB6g4XVcJskM",
        "outputId": "370efaf7-0106-467f-a807-783145304b2c"
      },
      "execution_count": 10,
      "outputs": [
        {
          "output_type": "stream",
          "name": "stdout",
          "text": [
            "Logical Memory: [0, 1, 2, 3, 4, 5, 6, 7, 8, 9, 10, 11, 12, 13, 14, 15]\n",
            "Pages in Memory:\n",
            "Page 0: 0 1 2 3 \n",
            "Page 1: 4 5 6 7 \n",
            "Page 2: 8 9 10 11 \n",
            "Page 3: 12 13 14 15 \n"
          ]
        }
      ]
    }
  ]
}