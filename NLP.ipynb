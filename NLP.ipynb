{
  "nbformat": 4,
  "nbformat_minor": 0,
  "metadata": {
    "colab": {
      "provenance": [],
      "authorship_tag": "ABX9TyNhPlE+peOLq6TChwWUGg63",
      "include_colab_link": true
    },
    "kernelspec": {
      "name": "python3",
      "display_name": "Python 3"
    },
    "language_info": {
      "name": "python"
    }
  },
  "cells": [
    {
      "cell_type": "markdown",
      "metadata": {
        "id": "view-in-github",
        "colab_type": "text"
      },
      "source": [
        "<a href=\"https://colab.research.google.com/github/wmmandela/Mandela/blob/main/NLP.ipynb\" target=\"_parent\"><img src=\"https://colab.research.google.com/assets/colab-badge.svg\" alt=\"Open In Colab\"/></a>"
      ]
    },
    {
      "cell_type": "markdown",
      "source": [
        "Import Required Libraries\n",
        "\n",
        "\n"
      ],
      "metadata": {
        "id": "J2STJox25Ccm"
      }
    },
    {
      "cell_type": "code",
      "source": [
        "import nltk\n",
        "from nltk.tokenize import word_tokenize\n",
        "from nltk.corpus import stopwords\n",
        "import re"
      ],
      "metadata": {
        "id": "k9xW4r6m5a5O"
      },
      "execution_count": null,
      "outputs": []
    },
    {
      "cell_type": "markdown",
      "source": [
        "Lowering Case"
      ],
      "metadata": {
        "id": "Dixm1G3F6E08"
      }
    },
    {
      "cell_type": "code",
      "source": [
        "sentence = \"He Saw a Man with a Telescope!\""
      ],
      "metadata": {
        "id": "2iKHBHlO6HAR"
      },
      "execution_count": null,
      "outputs": []
    },
    {
      "cell_type": "code",
      "source": [
        "sentence_lower=str(sentence).lower()\n",
        "print(\"Original Sentence:\",sentence)\n",
        "print(\"Lowered Sentence:\",sentence_lower)\n"
      ],
      "metadata": {
        "colab": {
          "base_uri": "https://localhost:8080/"
        },
        "id": "M6581LC96Y7l",
        "outputId": "84658f07-ceee-4964-9e26-8c74bd1842e4"
      },
      "execution_count": null,
      "outputs": [
        {
          "output_type": "stream",
          "name": "stdout",
          "text": [
            "Original Sentence: He Saw a Man with a Telescope!\n",
            "Lowered Sentence: he saw a man with a telescope!\n"
          ]
        }
      ]
    },
    {
      "cell_type": "markdown",
      "source": [
        "Removing Punctuations"
      ],
      "metadata": {
        "id": "9fW_a98W678b"
      }
    },
    {
      "cell_type": "code",
      "source": [
        "sentence_no_punct = re.sub(r'[^\\w\\s]','',sentence)\n",
        "print(\"Original Sentence:\",sentence)\n",
        "print(\"Sentence without Punctuations:\",sentence_no_punct)"
      ],
      "metadata": {
        "colab": {
          "base_uri": "https://localhost:8080/"
        },
        "id": "JwOsFJse66pD",
        "outputId": "375e5df4-fd7b-40c5-a020-7919a0eee32a"
      },
      "execution_count": null,
      "outputs": [
        {
          "output_type": "stream",
          "name": "stdout",
          "text": [
            "Original Sentence: He Saw a Man with a Telescope!\n",
            "Sentence without Punctuations: He Saw a Man with a Telescope\n"
          ]
        }
      ]
    },
    {
      "cell_type": "markdown",
      "source": [
        "Removal of special character"
      ],
      "metadata": {
        "id": "_0mH44o47oNC"
      }
    },
    {
      "cell_type": "code",
      "source": [
        "sentence=\"Find the reminder when[math]23^{24}[/math] is divided by 24,23?\"\n",
        "sentence_clean=re.sub(r'\\[math\\]|\\[/math\\]','',sentence)\n",
        "print(\"Original Sentence:\",sentence)\n",
        "print(\"Cleaned Sentence:\",sentence_clean)"
      ],
      "metadata": {
        "colab": {
          "base_uri": "https://localhost:8080/"
        },
        "id": "Ih93l4677m47",
        "outputId": "20be24b0-a6ea-459f-e105-94c410eedfc0"
      },
      "execution_count": null,
      "outputs": [
        {
          "output_type": "stream",
          "name": "stdout",
          "text": [
            "Original Sentence: Find the reminder when[math]23^{24}[/math] is divided by 24,23?\n",
            "Cleaned Sentence: Find the reminder when23^{24} is divided by 24,23?\n"
          ]
        }
      ]
    },
    {
      "cell_type": "markdown",
      "source": [
        "Removal of HTML tags"
      ],
      "metadata": {
        "id": "tyQ7WMjP8Vnf"
      }
    },
    {
      "cell_type": "code",
      "source": [
        "sentence='''<h3 style=\"color:red; font-family:Arial Black\">Hello Guys How Are You?</h3>'''\n",
        "sentence_clean=re.sub('<.*?>','',sentence)\n",
        "print(\"Original Sentence:\",sentence)\n",
        "print(\"Cleaned Sentence:\",sentence_clean)"
      ],
      "metadata": {
        "colab": {
          "base_uri": "https://localhost:8080/"
        },
        "id": "tsaeOiiM8UWN",
        "outputId": "687cf936-d73d-4483-b78d-17c57585e1e3"
      },
      "execution_count": null,
      "outputs": [
        {
          "output_type": "stream",
          "name": "stdout",
          "text": [
            "Original Sentence: <h3 style=\"color:red; font-family:Arial Black\">Hello Guys How Are You?</h3>\n",
            "Cleaned Sentence: Hello Guys How Are You?\n"
          ]
        }
      ]
    },
    {
      "cell_type": "markdown",
      "source": [
        "Removal of URL'S"
      ],
      "metadata": {
        "id": "UIv5eSrt9B85"
      }
    },
    {
      "cell_type": "code",
      "source": [
        "sentence=\"I visited https://github.com/surajh8596/NLP-Sentiment-Analysis-/tree/main/Senti\"\n",
        "clean_sentence=re.sub(\"(http|https|www)\\S+\", \"\", sentence)\n",
        "print(\"Original Sentence:\", sentence)\n",
        "print(\"--\"*60)\n",
        "print(\"Clean Sentence:\", clean_sentence)"
      ],
      "metadata": {
        "colab": {
          "base_uri": "https://localhost:8080/"
        },
        "id": "JiVJdKmJ8-gc",
        "outputId": "62fd7e8d-c1a2-4f69-eb4b-0a71cafed7a5"
      },
      "execution_count": null,
      "outputs": [
        {
          "output_type": "stream",
          "name": "stdout",
          "text": [
            "Original Sentence: I visited https://github.com/surajh8596/NLP-Sentiment-Analysis-/tree/main/Senti\n",
            "------------------------------------------------------------------------------------------------------------------------\n",
            "Clean Sentence: I visited \n"
          ]
        }
      ]
    },
    {
      "cell_type": "markdown",
      "source": [
        "Removing Extra Spaces"
      ],
      "metadata": {
        "id": "eAC8hsxf_yQN"
      }
    },
    {
      "cell_type": "code",
      "source": [
        "sentence=\"Hi Team Data Dynamos, How is your project going on ?\"\n",
        "clean_sentence=re.sub(\" +\",\" \", sentence)\n",
        "print(\"Original Sentence:\", sentence)\n",
        "print(\"--\"*60)\n",
        "print(\"Clean Sentence:\", clean_sentence)"
      ],
      "metadata": {
        "colab": {
          "base_uri": "https://localhost:8080/"
        },
        "id": "GUaqrrxo_22E",
        "outputId": "4d8a3383-960e-46e0-bafd-ea30908c490c"
      },
      "execution_count": null,
      "outputs": [
        {
          "output_type": "stream",
          "name": "stdout",
          "text": [
            "Original Sentence: Hi Team Data Dynamos, How is your project going on ?\n",
            "------------------------------------------------------------------------------------------------------------------------\n",
            "Clean Sentence: Hi Team Data Dynamos, How is your project going on ?\n"
          ]
        }
      ]
    },
    {
      "cell_type": "markdown",
      "source": [
        "Exanding Contraction"
      ],
      "metadata": {
        "id": "pBpqtKHRAA9s"
      }
    },
    {
      "cell_type": "code",
      "source": [
        "!pip install contractions"
      ],
      "metadata": {
        "colab": {
          "base_uri": "https://localhost:8080/"
        },
        "id": "m-OlRmkY_GKP",
        "outputId": "b9d0b7da-43f5-40dd-eed4-95cc65d4a544"
      },
      "execution_count": null,
      "outputs": [
        {
          "output_type": "stream",
          "name": "stdout",
          "text": [
            "Collecting contractions\n",
            "  Downloading contractions-0.1.73-py2.py3-none-any.whl.metadata (1.2 kB)\n",
            "Collecting textsearch>=0.0.21 (from contractions)\n",
            "  Downloading textsearch-0.0.24-py2.py3-none-any.whl.metadata (1.2 kB)\n",
            "Collecting anyascii (from textsearch>=0.0.21->contractions)\n",
            "  Downloading anyascii-0.3.2-py3-none-any.whl.metadata (1.5 kB)\n",
            "Collecting pyahocorasick (from textsearch>=0.0.21->contractions)\n",
            "  Downloading pyahocorasick-2.1.0-cp311-cp311-manylinux_2_17_x86_64.manylinux2014_x86_64.whl.metadata (13 kB)\n",
            "Downloading contractions-0.1.73-py2.py3-none-any.whl (8.7 kB)\n",
            "Downloading textsearch-0.0.24-py2.py3-none-any.whl (7.6 kB)\n",
            "Downloading anyascii-0.3.2-py3-none-any.whl (289 kB)\n",
            "\u001b[2K   \u001b[90m━━━━━━━━━━━━━━━━━━━━━━━━━━━━━━━━━━━━━━━━\u001b[0m \u001b[32m289.9/289.9 kB\u001b[0m \u001b[31m6.2 MB/s\u001b[0m eta \u001b[36m0:00:00\u001b[0m\n",
            "\u001b[?25hDownloading pyahocorasick-2.1.0-cp311-cp311-manylinux_2_17_x86_64.manylinux2014_x86_64.whl (118 kB)\n",
            "\u001b[2K   \u001b[90m━━━━━━━━━━━━━━━━━━━━━━━━━━━━━━━━━━━━━━━━\u001b[0m \u001b[32m118.3/118.3 kB\u001b[0m \u001b[31m8.3 MB/s\u001b[0m eta \u001b[36m0:00:00\u001b[0m\n",
            "\u001b[?25hInstalling collected packages: pyahocorasick, anyascii, textsearch, contractions\n",
            "Successfully installed anyascii-0.3.2 contractions-0.1.73 pyahocorasick-2.1.0 textsearch-0.0.24\n"
          ]
        }
      ]
    },
    {
      "cell_type": "code",
      "source": [
        "import contractions\n",
        "\n",
        "sentence=\"We've reached final step of our data science internship. We'll meet u in NYC, see y'all\"\n",
        "clear_sentence = contractions.fix(sentence)\n",
        "print(\"Original Sentence:\",sentence)\n",
        "print(\"_ _\"*60)\n",
        "print(\"Cleaned Sentence:\",clear_sentence)"
      ],
      "metadata": {
        "colab": {
          "base_uri": "https://localhost:8080/"
        },
        "id": "Wbr6on0z9Hqg",
        "outputId": "ff87d482-5bf7-454b-dc62-945df5147f6e"
      },
      "execution_count": null,
      "outputs": [
        {
          "output_type": "stream",
          "name": "stdout",
          "text": [
            "Original Sentence: We've reached final step of our data science internship. We'll meet u in NYC, see y'all\n",
            "_ __ __ __ __ __ __ __ __ __ __ __ __ __ __ __ __ __ __ __ __ __ __ __ __ __ __ __ __ __ __ __ __ __ __ __ __ __ __ __ __ __ __ __ __ __ __ __ __ __ __ __ __ __ __ __ __ __ __ __ _\n",
            "Cleaned Sentence: We have reached final step of our data science internship. We will meet you in NYC, see you all\n"
          ]
        }
      ]
    },
    {
      "cell_type": "markdown",
      "source": [
        "Text Correction"
      ],
      "metadata": {
        "id": "du0lDhtDAPix"
      }
    },
    {
      "cell_type": "code",
      "source": [
        "from textblob import TextBlob\n",
        "sentence=\"We have reachedd final step of our data science Trainig. We'll meet you in NYC.See y'all.\"\n",
        "textblob=TextBlob(sentence)\n",
        "correct_sentence=textblob.correct()\n",
        "print(\"Original Sentence:\", sentence)\n",
        "print(\"--\"*60)\n",
        "print(\"Correct Sentence:\", correct_sentence)"
      ],
      "metadata": {
        "colab": {
          "base_uri": "https://localhost:8080/"
        },
        "id": "Pxx65q36-_px",
        "outputId": "3259084f-daa9-4ed4-dcf0-b1e3f39f2826"
      },
      "execution_count": null,
      "outputs": [
        {
          "output_type": "stream",
          "name": "stdout",
          "text": [
            "Original Sentence: We have reachedd final step of our data science Trainig. We'll meet you in NYC.See y'all.\n",
            "------------------------------------------------------------------------------------------------------------------------\n",
            "Correct Sentence: He have reached final step of our data science Training. He'll meet you in NYC.See y'all.\n"
          ]
        }
      ]
    },
    {
      "cell_type": "code",
      "source": [
        "import nltk\n",
        "import re\n",
        "from nltk.tokenize import word_tokenize\n",
        "from nltk.corpus import stopwords\n",
        "!pip install contractions\n",
        "import contractions\n",
        "from textblob import TextBlob\n",
        "from bs4 import BeautifulSoup\n",
        "\n",
        "\n",
        "\n",
        "def to_lowercase(text):\n",
        "    return text.lower()\n",
        "\n",
        "def remove_punctuation(text):\n",
        "    return re.sub(r'[^\\w\\s]', '', text)\n",
        "\n",
        "def remove_math_tags(text):\n",
        "    return re.sub(r'\\[math\\]|\\[/math\\]', '', text)\n",
        "\n",
        "def remove_html_tags(text):\n",
        "    return BeautifulSoup(text, \"html.parser\").get_text()\n",
        "\n",
        "def remove_urls(text):\n",
        "    return re.sub(r\"(http|https|www)\\S+\", \"\", text)\n",
        "\n",
        "def remove_extra_spaces(text):\n",
        "    return re.sub(\" +\", \" \", text)\n",
        "\n",
        "def expand_contractions(text):\n",
        "    return contractions.fix(text)\n",
        "\n",
        "def correct_spelling(text):\n",
        "    return str(TextBlob(text).correct())\n",
        "\n",
        "# Sample sentence\n",
        "sentence = \"We've reached final step of our data science internship. We'll meet u in NYC, see y'all.\"\n",
        "\n",
        "print(\"Original Sentence:\", sentence)\n",
        "sentence = to_lowercase(sentence)\n",
        "print(\"Lowered Sentence:\", sentence)\n",
        "sentence = remove_punctuation(sentence)\n",
        "print(\"\\nSentence without Punctuations:\", sentence)\n",
        "sentence = remove_math_tags(sentence)\n",
        "print(\"\\nCleaned Sentence (Removed Math Tags):\", sentence)\n",
        "sentence = remove_html_tags(sentence)\n",
        "print(\"\\nCleaned Sentence (Removed HTML Tags):\", sentence)\n",
        "sentence = remove_urls(sentence)\n",
        "print(\"\\nCleaned Sentence (Removed URLs):\", sentence)\n",
        "sentence = remove_extra_spaces(sentence)\n",
        "print(\"\\nCleaned Sentence (Removed Extra Spaces):\", sentence)\n",
        "sentence = expand_contractions(sentence)\n",
        "print(\"\\nCleaned Sentence (Expanded Contractions):\", sentence)\n",
        "sentence = correct_spelling(sentence)\n",
        "print(\"\\nCorrected Sentence:\", sentence)\n"
      ],
      "metadata": {
        "colab": {
          "base_uri": "https://localhost:8080/"
        },
        "id": "wJwAR8tBAe6X",
        "outputId": "632c7667-7718-46af-df2b-0dfdcb33be57"
      },
      "execution_count": null,
      "outputs": [
        {
          "output_type": "stream",
          "name": "stdout",
          "text": [
            "Requirement already satisfied: contractions in /usr/local/lib/python3.11/dist-packages (0.1.73)\n",
            "Requirement already satisfied: textsearch>=0.0.21 in /usr/local/lib/python3.11/dist-packages (from contractions) (0.0.24)\n",
            "Requirement already satisfied: anyascii in /usr/local/lib/python3.11/dist-packages (from textsearch>=0.0.21->contractions) (0.3.2)\n",
            "Requirement already satisfied: pyahocorasick in /usr/local/lib/python3.11/dist-packages (from textsearch>=0.0.21->contractions) (2.1.0)\n",
            "Original Sentence: We've reached final step of our data science internship. We'll meet u in NYC, see y'all.\n",
            "Lowered Sentence: we've reached final step of our data science internship. we'll meet u in nyc, see y'all.\n",
            "\n",
            "Sentence without Punctuations: weve reached final step of our data science internship well meet u in nyc see yall\n",
            "\n",
            "Cleaned Sentence (Removed Math Tags): weve reached final step of our data science internship well meet u in nyc see yall\n",
            "\n",
            "Cleaned Sentence (Removed HTML Tags): weve reached final step of our data science internship well meet u in nyc see yall\n",
            "\n",
            "Cleaned Sentence (Removed URLs): weve reached final step of our data science internship well meet u in nyc see yall\n",
            "\n",
            "Cleaned Sentence (Removed Extra Spaces): weve reached final step of our data science internship well meet u in nyc see yall\n",
            "\n",
            "Cleaned Sentence (Expanded Contractions): we have reached final step of our data science internship well meet you in nyc see you all\n",
            "\n",
            "Corrected Sentence: we have reached final step of our data science internship well meet you in ny see you all\n"
          ]
        }
      ]
    }
  ]
}